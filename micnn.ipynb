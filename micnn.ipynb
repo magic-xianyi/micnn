{
 "cells": [
  {
   "cell_type": "code",
   "execution_count": 7,
   "metadata": {
    "pycharm": {
     "is_executing": true
    }
   },
   "outputs": [],
   "source": [
    "import tensorflow as tf\n",
    "import matplotlib.pyplot as plt\n",
    "import numpy as np\n",
    "from sklearn.metrics import f1_score, roc_auc_score\n",
    "import pandas as pd"
   ]
  },
  {
   "cell_type": "code",
   "execution_count": 9,
   "metadata": {
    "pycharm": {
     "name": "#%%\n"
    }
   },
   "outputs": [
    {
     "name": "stdout",
     "output_type": "stream",
     "text": [
      "True 1.15.0\n",
      "[PhysicalDevice(name='/physical_device:GPU:0', device_type='GPU')] [PhysicalDevice(name='/physical_device:CPU:0', device_type='CPU')]\n"
     ]
    }
   ],
   "source": [
    "print(tf.test.is_gpu_available(),tf.__version__ )\n",
    "gpus = tf.config.experimental.list_physical_devices(device_type='GPU')\n",
    "cpus = tf.config.experimental.list_physical_devices(device_type='CPU')\n",
    "print(gpus, cpus)"
   ]
  },
  {
   "cell_type": "code",
   "execution_count": 12,
   "metadata": {
    "pycharm": {
     "name": "#%%\n"
    }
   },
   "outputs": [
    {
     "name": "stdout",
     "output_type": "stream",
     "text": [
      "                Timestamp    FIT101    LIT101  MV101  P101  P102    AIT201  \\\n",
      "0   22/12/2015 4:00:00 PM  2.470294  261.5804      2     2     1  244.3284   \n",
      "1   22/12/2015 4:00:01 PM  2.457163  261.1879      2     2     1  244.3284   \n",
      "2   22/12/2015 4:00:02 PM  2.439548  260.9131      2     2     1  244.3284   \n",
      "3   22/12/2015 4:00:03 PM  2.428338  260.2850      2     2     1  244.3284   \n",
      "4   22/12/2015 4:00:04 PM  2.424815  259.8925      2     2     1  244.4245   \n",
      "\n",
      "    AIT202   AIT203    FIT201  ...  P501  P502    PIT501  PIT502    PIT503  \\\n",
      "0  8.19008  306.101  2.471278  ...     1     1  10.02948     0.0  4.277749   \n",
      "1  8.19008  306.101  2.468587  ...     1     1  10.02948     0.0  4.277749   \n",
      "2  8.19008  306.101  2.467305  ...     1     1  10.02948     0.0  4.277749   \n",
      "3  8.19008  306.101  2.466536  ...     1     1  10.02948     0.0  4.277749   \n",
      "4  8.19008  306.101  2.466536  ...     1     1  10.02948     0.0  4.277749   \n",
      "\n",
      "     FIT601  P601  P602  P603  Normal/Attack  \n",
      "0  0.000256     1     1     1         Normal  \n",
      "1  0.000256     1     1     1         Normal  \n",
      "2  0.000256     1     1     1         Normal  \n",
      "3  0.000256     1     1     1         Normal  \n",
      "4  0.000256     1     1     1         Normal  \n",
      "\n",
      "[5 rows x 53 columns]\n",
      "Index(['Timestamp', 'FIT101', 'LIT101', 'MV101', 'P101', 'P102', 'AIT201',\n",
      "       'AIT202', 'AIT203', 'FIT201', 'MV201', 'P201', 'P202', 'P203', 'P204',\n",
      "       'P205', 'P206', 'DPIT301', 'FIT301', 'LIT301', 'MV301', 'MV302',\n",
      "       'MV303', 'MV304', 'P301', 'P302', 'AIT401', 'AIT402', 'FIT401',\n",
      "       'LIT401', 'P401', 'P402', 'P403', 'P404', 'UV401', 'AIT501', 'AIT502',\n",
      "       'AIT503', 'AIT504', 'FIT501', 'FIT502', 'FIT503', 'FIT504', 'P501',\n",
      "       'P502', 'PIT501', 'PIT502', 'PIT503', 'FIT601', 'P601', 'P602', 'P603',\n",
      "       'Normal/Attack'],\n",
      "      dtype='object')\n"
     ]
    }
   ],
   "source": [
    "normal = pd.read_csv(\"input/SWaT_Dataset_Normal.csv\", header=0)#, nrows=1000)\n",
    "print(normal.head())\n",
    "print(normal.columns)"
   ]
  },
  {
   "cell_type": "code",
   "execution_count": 13,
   "metadata": {},
   "outputs": [
    {
     "name": "stdout",
     "output_type": "stream",
     "text": [
      "     FIT101    LIT101  MV101  P101  P102    AIT201   AIT202   AIT203  \\\n",
      "0  2.470294  261.5804      2     2     1  244.3284  8.19008  306.101   \n",
      "1  2.457163  261.1879      2     2     1  244.3284  8.19008  306.101   \n",
      "2  2.439548  260.9131      2     2     1  244.3284  8.19008  306.101   \n",
      "3  2.428338  260.2850      2     2     1  244.3284  8.19008  306.101   \n",
      "4  2.424815  259.8925      2     2     1  244.4245  8.19008  306.101   \n",
      "\n",
      "     FIT201  MV201  ...    FIT501    FIT502    FIT503  FIT504  P501  P502  \\\n",
      "0  2.471278      2  ...  0.001666  0.001409  0.001664     0.0     1     1   \n",
      "1  2.468587      2  ...  0.001666  0.001409  0.001664     0.0     1     1   \n",
      "2  2.467305      2  ...  0.001666  0.001409  0.001664     0.0     1     1   \n",
      "3  2.466536      2  ...  0.001666  0.001409  0.001664     0.0     1     1   \n",
      "4  2.466536      2  ...  0.001666  0.001409  0.001664     0.0     1     1   \n",
      "\n",
      "     PIT501  PIT502    PIT503    FIT601  \n",
      "0  10.02948     0.0  4.277749  0.000256  \n",
      "1  10.02948     0.0  4.277749  0.000256  \n",
      "2  10.02948     0.0  4.277749  0.000256  \n",
      "3  10.02948     0.0  4.277749  0.000256  \n",
      "4  10.02948     0.0  4.277749  0.000256  \n",
      "\n",
      "[5 rows x 48 columns]\n"
     ]
    },
    {
     "data": {
      "text/html": [
       "<div>\n",
       "<style scoped>\n",
       "    .dataframe tbody tr th:only-of-type {\n",
       "        vertical-align: middle;\n",
       "    }\n",
       "\n",
       "    .dataframe tbody tr th {\n",
       "        vertical-align: top;\n",
       "    }\n",
       "\n",
       "    .dataframe thead th {\n",
       "        text-align: right;\n",
       "    }\n",
       "</style>\n",
       "<table border=\"1\" class=\"dataframe\">\n",
       "  <thead>\n",
       "    <tr style=\"text-align: right;\">\n",
       "      <th></th>\n",
       "      <th>0</th>\n",
       "      <th>1</th>\n",
       "      <th>2</th>\n",
       "      <th>3</th>\n",
       "      <th>4</th>\n",
       "      <th>5</th>\n",
       "      <th>6</th>\n",
       "      <th>7</th>\n",
       "      <th>8</th>\n",
       "      <th>9</th>\n",
       "      <th>...</th>\n",
       "      <th>38</th>\n",
       "      <th>39</th>\n",
       "      <th>40</th>\n",
       "      <th>41</th>\n",
       "      <th>42</th>\n",
       "      <th>43</th>\n",
       "      <th>44</th>\n",
       "      <th>45</th>\n",
       "      <th>46</th>\n",
       "      <th>47</th>\n",
       "    </tr>\n",
       "  </thead>\n",
       "  <tbody>\n",
       "    <tr>\n",
       "      <th>0</th>\n",
       "      <td>0.899895</td>\n",
       "      <td>0.160292</td>\n",
       "      <td>1.0</td>\n",
       "      <td>1.0</td>\n",
       "      <td>0.0</td>\n",
       "      <td>0.0</td>\n",
       "      <td>0.0</td>\n",
       "      <td>0.01971</td>\n",
       "      <td>0.993304</td>\n",
       "      <td>1.0</td>\n",
       "      <td>...</td>\n",
       "      <td>0.000511</td>\n",
       "      <td>0.000565</td>\n",
       "      <td>0.000839</td>\n",
       "      <td>0.0</td>\n",
       "      <td>0.0</td>\n",
       "      <td>0.0</td>\n",
       "      <td>0.004448</td>\n",
       "      <td>0.0</td>\n",
       "      <td>0.005921</td>\n",
       "      <td>0.000147</td>\n",
       "    </tr>\n",
       "    <tr>\n",
       "      <th>1</th>\n",
       "      <td>0.895111</td>\n",
       "      <td>0.159845</td>\n",
       "      <td>1.0</td>\n",
       "      <td>1.0</td>\n",
       "      <td>0.0</td>\n",
       "      <td>0.0</td>\n",
       "      <td>0.0</td>\n",
       "      <td>0.01971</td>\n",
       "      <td>0.992222</td>\n",
       "      <td>1.0</td>\n",
       "      <td>...</td>\n",
       "      <td>0.000511</td>\n",
       "      <td>0.000565</td>\n",
       "      <td>0.000839</td>\n",
       "      <td>0.0</td>\n",
       "      <td>0.0</td>\n",
       "      <td>0.0</td>\n",
       "      <td>0.004448</td>\n",
       "      <td>0.0</td>\n",
       "      <td>0.005921</td>\n",
       "      <td>0.000147</td>\n",
       "    </tr>\n",
       "  </tbody>\n",
       "</table>\n",
       "<p>2 rows × 48 columns</p>\n",
       "</div>"
      ],
      "text/plain": [
       "         0         1    2    3    4    5    6        7         8    9   ...  \\\n",
       "0  0.899895  0.160292  1.0  1.0  0.0  0.0  0.0  0.01971  0.993304  1.0  ...   \n",
       "1  0.895111  0.159845  1.0  1.0  0.0  0.0  0.0  0.01971  0.992222  1.0  ...   \n",
       "\n",
       "         38        39        40   41   42   43        44   45        46  \\\n",
       "0  0.000511  0.000565  0.000839  0.0  0.0  0.0  0.004448  0.0  0.005921   \n",
       "1  0.000511  0.000565  0.000839  0.0  0.0  0.0  0.004448  0.0  0.005921   \n",
       "\n",
       "         47  \n",
       "0  0.000147  \n",
       "1  0.000147  \n",
       "\n",
       "[2 rows x 48 columns]"
      ]
     },
     "execution_count": 13,
     "metadata": {},
     "output_type": "execute_result"
    }
   ],
   "source": [
    "normal = normal.drop([\"Timestamp\" , \"Normal/Attack\",\"P601\",\"P602\",\"P603\"] , axis = 1)\n",
    "normal.shape\n",
    "print(normal.head())\n",
    "normal = normal.astype(float)\n",
    "from sklearn import preprocessing\n",
    "min_max_scaler = preprocessing.MinMaxScaler()\n",
    "x = normal.values\n",
    "x_scaled = min_max_scaler.fit_transform(x)\n",
    "normal = pd.DataFrame(x_scaled)\n",
    "normal.head(2)"
   ]
  },
  {
   "cell_type": "code",
   "execution_count": 14,
   "metadata": {},
   "outputs": [
    {
     "data": {
      "text/html": [
       "<div>\n",
       "<style scoped>\n",
       "    .dataframe tbody tr th:only-of-type {\n",
       "        vertical-align: middle;\n",
       "    }\n",
       "\n",
       "    .dataframe tbody tr th {\n",
       "        vertical-align: top;\n",
       "    }\n",
       "\n",
       "    .dataframe thead th {\n",
       "        text-align: right;\n",
       "    }\n",
       "</style>\n",
       "<table border=\"1\" class=\"dataframe\">\n",
       "  <thead>\n",
       "    <tr style=\"text-align: right;\">\n",
       "      <th></th>\n",
       "      <th>0</th>\n",
       "      <th>1</th>\n",
       "      <th>2</th>\n",
       "      <th>3</th>\n",
       "      <th>4</th>\n",
       "      <th>5</th>\n",
       "      <th>6</th>\n",
       "      <th>7</th>\n",
       "      <th>8</th>\n",
       "      <th>9</th>\n",
       "      <th>...</th>\n",
       "      <th>38</th>\n",
       "      <th>39</th>\n",
       "      <th>40</th>\n",
       "      <th>41</th>\n",
       "      <th>42</th>\n",
       "      <th>43</th>\n",
       "      <th>44</th>\n",
       "      <th>45</th>\n",
       "      <th>46</th>\n",
       "      <th>47</th>\n",
       "    </tr>\n",
       "  </thead>\n",
       "  <tbody>\n",
       "    <tr>\n",
       "      <th>0</th>\n",
       "      <td>0.899895</td>\n",
       "      <td>0.160292</td>\n",
       "      <td>1.0</td>\n",
       "      <td>1.0</td>\n",
       "      <td>0.0</td>\n",
       "      <td>0.0</td>\n",
       "      <td>0.0</td>\n",
       "      <td>0.01971</td>\n",
       "      <td>0.993304</td>\n",
       "      <td>1.0</td>\n",
       "      <td>...</td>\n",
       "      <td>0.000511</td>\n",
       "      <td>0.000565</td>\n",
       "      <td>0.000839</td>\n",
       "      <td>0.0</td>\n",
       "      <td>0.0</td>\n",
       "      <td>0.0</td>\n",
       "      <td>0.004448</td>\n",
       "      <td>0.0</td>\n",
       "      <td>0.005921</td>\n",
       "      <td>0.000147</td>\n",
       "    </tr>\n",
       "    <tr>\n",
       "      <th>1</th>\n",
       "      <td>0.895111</td>\n",
       "      <td>0.159845</td>\n",
       "      <td>1.0</td>\n",
       "      <td>1.0</td>\n",
       "      <td>0.0</td>\n",
       "      <td>0.0</td>\n",
       "      <td>0.0</td>\n",
       "      <td>0.01971</td>\n",
       "      <td>0.992222</td>\n",
       "      <td>1.0</td>\n",
       "      <td>...</td>\n",
       "      <td>0.000511</td>\n",
       "      <td>0.000565</td>\n",
       "      <td>0.000839</td>\n",
       "      <td>0.0</td>\n",
       "      <td>0.0</td>\n",
       "      <td>0.0</td>\n",
       "      <td>0.004448</td>\n",
       "      <td>0.0</td>\n",
       "      <td>0.005921</td>\n",
       "      <td>0.000147</td>\n",
       "    </tr>\n",
       "  </tbody>\n",
       "</table>\n",
       "<p>2 rows × 48 columns</p>\n",
       "</div>"
      ],
      "text/plain": [
       "         0         1    2    3    4    5    6        7         8    9   ...  \\\n",
       "0  0.899895  0.160292  1.0  1.0  0.0  0.0  0.0  0.01971  0.993304  1.0  ...   \n",
       "1  0.895111  0.159845  1.0  1.0  0.0  0.0  0.0  0.01971  0.992222  1.0  ...   \n",
       "\n",
       "         38        39        40   41   42   43        44   45        46  \\\n",
       "0  0.000511  0.000565  0.000839  0.0  0.0  0.0  0.004448  0.0  0.005921   \n",
       "1  0.000511  0.000565  0.000839  0.0  0.0  0.0  0.004448  0.0  0.005921   \n",
       "\n",
       "         47  \n",
       "0  0.000147  \n",
       "1  0.000147  \n",
       "\n",
       "[2 rows x 48 columns]"
      ]
     },
     "execution_count": 14,
     "metadata": {},
     "output_type": "execute_result"
    }
   ],
   "source": [
    "normal = normal.astype(float)\n",
    "from sklearn import preprocessing\n",
    "min_max_scaler = preprocessing.MinMaxScaler()\n",
    "x = normal.values\n",
    "x_scaled = min_max_scaler.fit_transform(x)\n",
    "normal = pd.DataFrame(x_scaled)\n",
    "normal.head(2)"
   ]
  },
  {
   "cell_type": "code",
   "execution_count": 15,
   "metadata": {
    "pycharm": {
     "name": "#%%\n"
    }
   },
   "outputs": [
    {
     "name": "stdout",
     "output_type": "stream",
     "text": [
      "测试数据集形状：(449919, 48)，标签长度：449919\n"
     ]
    }
   ],
   "source": [
    "attack = pd.read_csv(\"input/SWaT_Dataset_Attack.csv\",header=0)#, nrows=1000)\n",
    "labels = [ float(label!= 'Normal' ) for label  in attack[\"Normal/Attack\"].values] #等于normal就是0，异常就是1\n",
    "attack = attack.drop([\"Timestamp\" , \"Normal/Attack\",\"P603\",\"P601\",\"P602\"] , axis = 1)\n",
    "attack = attack.astype(float)\n",
    "x2 = attack.values\n",
    "x_scaled2 = min_max_scaler.fit_transform(x2)\n",
    "attack = pd.DataFrame(x_scaled2)\n",
    "print(\"测试数据集形状：{}，标签长度：{}\".format(attack.shape, len(labels)))"
   ]
  },
  {
   "cell_type": "code",
   "execution_count": 16,
   "metadata": {},
   "outputs": [
    {
     "name": "stdout",
     "output_type": "stream",
     "text": [
      "正常数据维度：(496788, 12, 48),攻击数据维度：(449907, 12, 48)\n"
     ]
    }
   ],
   "source": [
    "window_size = 12\n",
    "windows_normal=normal.values[np.arange(window_size)[None, :] + np.arange(normal.shape[0]-window_size)[:, None]] #窗口化处理\n",
    "windows_attack=attack.values[np.arange(window_size)[None, :] + np.arange(attack.shape[0]-window_size)[:, None]]\n",
    "print(\"正常数据维度：{},攻击数据维度：{}\".format(windows_normal.shape, windows_attack.shape))"
   ]
  },
  {
   "cell_type": "code",
   "execution_count": 17,
   "metadata": {
    "pycharm": {
     "name": "#%%\n"
    }
   },
   "outputs": [
    {
     "name": "stdout",
     "output_type": "stream",
     "text": [
      "输入层维度：(12, 48, 1)，训练数据集：(397430, 12, 48)，验证数据集：(99358, 12, 48)\n"
     ]
    }
   ],
   "source": [
    "BATCH_SIZE =  7000\n",
    "N_EPOCHS = 100\n",
    "input_dimension=(12, 48, 1)\n",
    "w_size=windows_normal.shape[1]*windows_normal.shape[2]\n",
    "windows_normal_train = windows_normal[:int(np.floor(.8 *  windows_normal.shape[0]))]\n",
    "windows_normal_val = windows_normal[int(np.floor(.8 *  windows_normal.shape[0])):int(np.floor(windows_normal.shape[0]))]\n",
    "print(\"输入层维度：{}，训练数据集：{}，验证数据集：{}\".format(input_dimension, windows_normal_train.shape, windows_normal_val.shape))"
   ]
  },
  {
   "cell_type": "code",
   "execution_count": 19,
   "metadata": {
    "pycharm": {
     "name": "#%%\n"
    }
   },
   "outputs": [
    {
     "name": "stdout",
     "output_type": "stream",
     "text": [
      "Tensor(\"ExpandDims:0\", shape=(12, 48, 1), dtype=float64)\n",
      "[[[8.99894794e-01 1.60291675e-01 1.00000000e+00 ... 0.00000000e+00\n",
      "   5.92100145e-03 1.46783947e-04]\n",
      "  [8.95111348e-01 1.59845336e-01 1.00000000e+00 ... 0.00000000e+00\n",
      "   5.92100145e-03 1.46783947e-04]\n",
      "  [8.88694441e-01 1.59532842e-01 1.00000000e+00 ... 0.00000000e+00\n",
      "   5.92100145e-03 1.46783947e-04]\n",
      "  ...\n",
      "  [9.46447332e-01 1.59755954e-01 1.00000000e+00 ... 0.00000000e+00\n",
      "   5.92100145e-03 1.46783947e-04]\n",
      "  [9.58347844e-01 1.60514788e-01 1.00000000e+00 ... 0.00000000e+00\n",
      "   5.92100145e-03 1.46783947e-04]\n",
      "  [9.65114830e-01 1.60514788e-01 1.00000000e+00 ... 0.00000000e+00\n",
      "   5.92100145e-03 1.46783947e-04]]\n",
      "\n",
      " [[8.95111348e-01 1.59845336e-01 1.00000000e+00 ... 0.00000000e+00\n",
      "   5.92100145e-03 1.46783947e-04]\n",
      "  [8.88694441e-01 1.59532842e-01 1.00000000e+00 ... 0.00000000e+00\n",
      "   5.92100145e-03 1.46783947e-04]\n",
      "  [8.84610789e-01 1.58818585e-01 1.00000000e+00 ... 0.00000000e+00\n",
      "   5.92100145e-03 1.46783947e-04]\n",
      "  ...\n",
      "  [9.58347844e-01 1.60514788e-01 1.00000000e+00 ... 0.00000000e+00\n",
      "   5.92100145e-03 1.46783947e-04]\n",
      "  [9.65114830e-01 1.60514788e-01 1.00000000e+00 ... 0.00000000e+00\n",
      "   5.92100145e-03 1.46783947e-04]\n",
      "  [9.66864863e-01 1.60648746e-01 1.00000000e+00 ... 0.00000000e+00\n",
      "   5.92100145e-03 1.46783947e-04]]\n",
      "\n",
      " [[8.88694441e-01 1.59532842e-01 1.00000000e+00 ... 0.00000000e+00\n",
      "   5.92100145e-03 1.46783947e-04]\n",
      "  [8.84610789e-01 1.58818585e-01 1.00000000e+00 ... 0.00000000e+00\n",
      "   5.92100145e-03 1.46783947e-04]\n",
      "  [8.83327408e-01 1.58372246e-01 1.00000000e+00 ... 0.00000000e+00\n",
      "   5.92100145e-03 1.46783947e-04]\n",
      "  ...\n",
      "  [9.65114830e-01 1.60514788e-01 1.00000000e+00 ... 0.00000000e+00\n",
      "   5.92100145e-03 1.46783947e-04]\n",
      "  [9.66864863e-01 1.60648746e-01 1.00000000e+00 ... 0.00000000e+00\n",
      "   5.92100145e-03 1.46783947e-04]\n",
      "  [9.64064592e-01 1.60380943e-01 1.00000000e+00 ... 0.00000000e+00\n",
      "   5.92100145e-03 1.46783947e-04]]\n",
      "\n",
      " ...\n",
      "\n",
      " [[0.00000000e+00 7.85299536e-01 5.00000000e-01 ... 2.88209690e-01\n",
      "   9.45819211e-01 3.67097314e-05]\n",
      "  [0.00000000e+00 7.85299536e-01 5.00000000e-01 ... 2.88209690e-01\n",
      "   9.45819211e-01 3.67097314e-05]\n",
      "  [0.00000000e+00 7.85478071e-01 5.00000000e-01 ... 2.88209690e-01\n",
      "   9.45819211e-01 3.67097314e-05]\n",
      "  ...\n",
      "  [0.00000000e+00 7.86013792e-01 5.00000000e-01 ... 3.18777170e-01\n",
      "   9.45170194e-01 3.67097314e-05]\n",
      "  [0.00000000e+00 7.85835142e-01 5.00000000e-01 ... 3.18777170e-01\n",
      "   9.45170194e-01 3.67097314e-05]\n",
      "  [0.00000000e+00 7.86236904e-01 5.00000000e-01 ... 3.18777170e-01\n",
      "   9.45170194e-01 3.67097314e-05]]\n",
      "\n",
      " [[0.00000000e+00 7.85299536e-01 5.00000000e-01 ... 2.88209690e-01\n",
      "   9.45819211e-01 3.67097314e-05]\n",
      "  [0.00000000e+00 7.85478071e-01 5.00000000e-01 ... 2.88209690e-01\n",
      "   9.45819211e-01 3.67097314e-05]\n",
      "  [0.00000000e+00 7.85924410e-01 5.00000000e-01 ... 2.88209690e-01\n",
      "   9.45819211e-01 3.67097314e-05]\n",
      "  ...\n",
      "  [0.00000000e+00 7.85835142e-01 5.00000000e-01 ... 3.18777170e-01\n",
      "   9.45170194e-01 3.67097314e-05]\n",
      "  [0.00000000e+00 7.86236904e-01 5.00000000e-01 ... 3.18777170e-01\n",
      "   9.45170194e-01 3.67097314e-05]\n",
      "  [0.00000000e+00 7.86147637e-01 5.00000000e-01 ... 3.18777170e-01\n",
      "   9.45170194e-01 3.67097314e-05]]\n",
      "\n",
      " [[0.00000000e+00 7.85478071e-01 5.00000000e-01 ... 2.88209690e-01\n",
      "   9.45819211e-01 3.67097314e-05]\n",
      "  [0.00000000e+00 7.85924410e-01 5.00000000e-01 ... 2.88209690e-01\n",
      "   9.45819211e-01 3.67097314e-05]\n",
      "  [0.00000000e+00 7.85924410e-01 5.00000000e-01 ... 2.88209690e-01\n",
      "   9.45819211e-01 3.67097314e-05]\n",
      "  ...\n",
      "  [0.00000000e+00 7.86236904e-01 5.00000000e-01 ... 3.18777170e-01\n",
      "   9.45170194e-01 3.67097314e-05]\n",
      "  [0.00000000e+00 7.86147637e-01 5.00000000e-01 ... 3.18777170e-01\n",
      "   9.45170194e-01 3.67097314e-05]\n",
      "  [0.00000000e+00 7.86236904e-01 5.00000000e-01 ... 3.18777170e-01\n",
      "   9.45170194e-01 3.67097314e-05]]]\n"
     ]
    }
   ],
   "source": [
    "nr_batches_train = int(windows_normal_train.shape[0] / BATCH_SIZE)\n",
    "train = np.random.random((windows_normal_train.shape[0], 12, 48))\n",
    "print(tf.expand_dims(windows_normal_train[0], axis=-1))\n",
    "for i in range(nr_batches_train):\n",
    "    ran_from = t * batch_size\n",
    "    ran_to = (t + 1) * batch_size\n",
    "    # 添加一个新的维度\n",
    "    train[i] = windows_normal_train[i]\n",
    "print(train)"
   ]
  },
  {
   "cell_type": "code",
   "execution_count": 80,
   "metadata": {
    "pycharm": {
     "name": "#%%\n"
    }
   },
   "outputs": [
    {
     "name": "stdout",
     "output_type": "stream",
     "text": [
      "Tensor(\"input_10:0\", shape=(?, 12, 48, 1), dtype=float32)\n"
     ]
    }
   ],
   "source": [
    "input_dim = tf.keras.layers.Input(shape=input_dimension) # x_train.shape[1:] 输出：TensorShape([28, 28, 1])\n",
    "print(input_dim)"
   ]
  },
  {
   "cell_type": "code",
   "execution_count": null,
   "metadata": {},
   "outputs": [],
   "source": []
  },
  {
   "cell_type": "code",
   "execution_count": 81,
   "metadata": {
    "pycharm": {
     "name": "#%%\n"
    }
   },
   "outputs": [],
   "source": [
    "\n",
    "x = tf.keras.layers.Conv2D(32,3,activation='relu',padding='same')(input_dim) #28*28*16（16个3*3的卷积核）\n",
    "x = tf.keras.layers.MaxPooling2D()(x) #14*14*16（same就是保持原图大小不动，然后用2*2的池化窗口做池化）\n",
    "x = tf.keras.layers.Conv2D(64,3,activation='relu',padding='same')(x) #14*14*32（再用32个3*3的卷积核做卷积得到14*14*32）\n",
    "x = tf.keras.layers.MaxPooling2D()(x) #7*7*32\n",
    "#decode：用反卷积上采样，还原回原来的图像\n",
    "x = tf.keras.layers.Conv2DTranspose(32, 3, strides=2, activation='relu', padding='same')(x)#stride就是把图像扩大回原来的2倍，把7*7*32的变成了14*14*16\n",
    "x = tf.keras.layers.Conv2DTranspose(1, 3, strides=2, activation='sigmoid', padding='same')(x)#28*28*1\n",
    "model = tf.keras.Model(inputs=input_dim,outputs=x)"
   ]
  },
  {
   "cell_type": "code",
   "execution_count": 82,
   "metadata": {
    "pycharm": {
     "name": "#%%\n"
    }
   },
   "outputs": [
    {
     "name": "stdout",
     "output_type": "stream",
     "text": [
      "Model: \"model_7\"\n",
      "_________________________________________________________________\n",
      "Layer (type)                 Output Shape              Param #   \n",
      "=================================================================\n",
      "input_10 (InputLayer)        [(None, 12, 48, 1)]       0         \n",
      "_________________________________________________________________\n",
      "conv2d_15 (Conv2D)           (None, 12, 48, 32)        320       \n",
      "_________________________________________________________________\n",
      "max_pooling2d_14 (MaxPooling (None, 6, 24, 32)         0         \n",
      "_________________________________________________________________\n",
      "conv2d_16 (Conv2D)           (None, 6, 24, 64)         18496     \n",
      "_________________________________________________________________\n",
      "max_pooling2d_15 (MaxPooling (None, 3, 12, 64)         0         \n",
      "_________________________________________________________________\n",
      "conv2d_transpose_14 (Conv2DT (None, 6, 24, 32)         18464     \n",
      "_________________________________________________________________\n",
      "conv2d_transpose_15 (Conv2DT (None, 12, 48, 1)         289       \n",
      "=================================================================\n",
      "Total params: 37,569\n",
      "Trainable params: 37,569\n",
      "Non-trainable params: 0\n",
      "_________________________________________________________________\n"
     ]
    }
   ],
   "source": [
    "model.summary()"
   ]
  },
  {
   "cell_type": "code",
   "execution_count": 83,
   "metadata": {
    "pycharm": {
     "name": "#%%\n"
    }
   },
   "outputs": [
    {
     "name": "stdout",
     "output_type": "stream",
     "text": [
      "Failed to import pydot. You must install pydot and graphviz for `pydotprint` to work.\n"
     ]
    }
   ],
   "source": [
    "tf.keras.utils.plot_model(model, show_shapes=True)"
   ]
  },
  {
   "cell_type": "code",
   "execution_count": 84,
   "metadata": {
    "pycharm": {
     "name": "#%%\n"
    }
   },
   "outputs": [],
   "source": [
    "model.compile(optimizer=tf.keras.optimizers.Adam(0.001),loss='mse', metrics=[\"accuracy\"])"
   ]
  },
  {
   "cell_type": "code",
   "execution_count": 86,
   "metadata": {
    "pycharm": {
     "name": "#%%\n"
    }
   },
   "outputs": [
    {
     "ename": "ValueError",
     "evalue": "Error when checking input: expected input_10 to have 4 dimensions, but got array with shape (397430, 12, 48)",
     "output_type": "error",
     "traceback": [
      "\u001B[1;31m---------------------------------------------------------------------------\u001B[0m",
      "\u001B[1;31mValueError\u001B[0m                                Traceback (most recent call last)",
      "\u001B[1;32m~\\AppData\\Local\\Temp\\ipykernel_6168\\1632959635.py\u001B[0m in \u001B[0;36m<module>\u001B[1;34m\u001B[0m\n\u001B[0;32m      1\u001B[0m \u001B[1;31m#训练的时候用带噪声的图像，输出是去除噪声的\u001B[0m\u001B[1;33m\u001B[0m\u001B[1;33m\u001B[0m\u001B[0m\n\u001B[1;32m----> 2\u001B[1;33m \u001B[0mmodel\u001B[0m\u001B[1;33m.\u001B[0m\u001B[0mfit\u001B[0m\u001B[1;33m(\u001B[0m\u001B[0mwindows_normal_train\u001B[0m\u001B[1;33m,\u001B[0m\u001B[0mwindows_normal_train\u001B[0m\u001B[1;33m,\u001B[0m\u001B[0mepochs\u001B[0m\u001B[1;33m=\u001B[0m\u001B[1;36m10\u001B[0m\u001B[1;33m,\u001B[0m\u001B[0mbatch_size\u001B[0m\u001B[1;33m=\u001B[0m\u001B[1;36m700\u001B[0m\u001B[1;33m,\u001B[0m\u001B[0mshuffle\u001B[0m\u001B[1;33m=\u001B[0m\u001B[1;32mTrue\u001B[0m\u001B[1;33m,\u001B[0m\u001B[0mvalidation_data\u001B[0m\u001B[1;33m=\u001B[0m\u001B[1;33m(\u001B[0m\u001B[0mwindows_normal_val\u001B[0m\u001B[1;33m,\u001B[0m\u001B[0mwindows_normal_val\u001B[0m\u001B[1;33m)\u001B[0m\u001B[1;33m)\u001B[0m\u001B[1;33m\u001B[0m\u001B[0m\n\u001B[0m",
      "\u001B[1;32mD:\\environment\\miniconda\\envs\\tensorflow115GPU\\lib\\site-packages\\tensorflow_core\\python\\keras\\engine\\training.py\u001B[0m in \u001B[0;36mfit\u001B[1;34m(self, x, y, batch_size, epochs, verbose, callbacks, validation_split, validation_data, shuffle, class_weight, sample_weight, initial_epoch, steps_per_epoch, validation_steps, validation_freq, max_queue_size, workers, use_multiprocessing, **kwargs)\u001B[0m\n\u001B[0;32m    725\u001B[0m         \u001B[0mmax_queue_size\u001B[0m\u001B[1;33m=\u001B[0m\u001B[0mmax_queue_size\u001B[0m\u001B[1;33m,\u001B[0m\u001B[1;33m\u001B[0m\u001B[0m\n\u001B[0;32m    726\u001B[0m         \u001B[0mworkers\u001B[0m\u001B[1;33m=\u001B[0m\u001B[0mworkers\u001B[0m\u001B[1;33m,\u001B[0m\u001B[1;33m\u001B[0m\u001B[0m\n\u001B[1;32m--> 727\u001B[1;33m         use_multiprocessing=use_multiprocessing)\n\u001B[0m\u001B[0;32m    728\u001B[0m \u001B[1;33m\u001B[0m\u001B[0m\n\u001B[0;32m    729\u001B[0m   def evaluate(self,\n",
      "\u001B[1;32mD:\\environment\\miniconda\\envs\\tensorflow115GPU\\lib\\site-packages\\tensorflow_core\\python\\keras\\engine\\training_arrays.py\u001B[0m in \u001B[0;36mfit\u001B[1;34m(self, model, x, y, batch_size, epochs, verbose, callbacks, validation_split, validation_data, shuffle, class_weight, sample_weight, initial_epoch, steps_per_epoch, validation_steps, validation_freq, **kwargs)\u001B[0m\n\u001B[0;32m    641\u001B[0m         \u001B[0msteps\u001B[0m\u001B[1;33m=\u001B[0m\u001B[0msteps_per_epoch\u001B[0m\u001B[1;33m,\u001B[0m\u001B[1;33m\u001B[0m\u001B[0m\n\u001B[0;32m    642\u001B[0m         \u001B[0mvalidation_split\u001B[0m\u001B[1;33m=\u001B[0m\u001B[0mvalidation_split\u001B[0m\u001B[1;33m,\u001B[0m\u001B[1;33m\u001B[0m\u001B[0m\n\u001B[1;32m--> 643\u001B[1;33m         shuffle=shuffle)\n\u001B[0m\u001B[0;32m    644\u001B[0m \u001B[1;33m\u001B[0m\u001B[0m\n\u001B[0;32m    645\u001B[0m     \u001B[1;32mif\u001B[0m \u001B[0mvalidation_data\u001B[0m\u001B[1;33m:\u001B[0m\u001B[1;33m\u001B[0m\u001B[0m\n",
      "\u001B[1;32mD:\\environment\\miniconda\\envs\\tensorflow115GPU\\lib\\site-packages\\tensorflow_core\\python\\keras\\engine\\training.py\u001B[0m in \u001B[0;36m_standardize_user_data\u001B[1;34m(self, x, y, sample_weight, class_weight, batch_size, check_steps, steps_name, steps, validation_split, shuffle, extract_tensors_from_dataset)\u001B[0m\n\u001B[0;32m   2469\u001B[0m           \u001B[0mfeed_input_shapes\u001B[0m\u001B[1;33m,\u001B[0m\u001B[1;33m\u001B[0m\u001B[0m\n\u001B[0;32m   2470\u001B[0m           \u001B[0mcheck_batch_axis\u001B[0m\u001B[1;33m=\u001B[0m\u001B[1;32mFalse\u001B[0m\u001B[1;33m,\u001B[0m  \u001B[1;31m# Don't enforce the batch size.\u001B[0m\u001B[1;33m\u001B[0m\u001B[0m\n\u001B[1;32m-> 2471\u001B[1;33m           exception_prefix='input')\n\u001B[0m\u001B[0;32m   2472\u001B[0m \u001B[1;33m\u001B[0m\u001B[0m\n\u001B[0;32m   2473\u001B[0m     \u001B[1;31m# Get typespecs for the input data and sanitize it if necessary.\u001B[0m\u001B[1;33m\u001B[0m\u001B[1;33m\u001B[0m\u001B[0m\n",
      "\u001B[1;32mD:\\environment\\miniconda\\envs\\tensorflow115GPU\\lib\\site-packages\\tensorflow_core\\python\\keras\\engine\\training_utils.py\u001B[0m in \u001B[0;36mstandardize_input_data\u001B[1;34m(data, names, shapes, check_batch_axis, exception_prefix)\u001B[0m\n\u001B[0;32m    561\u001B[0m                            \u001B[1;34m': expected '\u001B[0m \u001B[1;33m+\u001B[0m \u001B[0mnames\u001B[0m\u001B[1;33m[\u001B[0m\u001B[0mi\u001B[0m\u001B[1;33m]\u001B[0m \u001B[1;33m+\u001B[0m \u001B[1;34m' to have '\u001B[0m \u001B[1;33m+\u001B[0m\u001B[1;33m\u001B[0m\u001B[0m\n\u001B[0;32m    562\u001B[0m                            \u001B[0mstr\u001B[0m\u001B[1;33m(\u001B[0m\u001B[0mlen\u001B[0m\u001B[1;33m(\u001B[0m\u001B[0mshape\u001B[0m\u001B[1;33m)\u001B[0m\u001B[1;33m)\u001B[0m \u001B[1;33m+\u001B[0m \u001B[1;34m' dimensions, but got array '\u001B[0m\u001B[1;33m\u001B[0m\u001B[0m\n\u001B[1;32m--> 563\u001B[1;33m                            'with shape ' + str(data_shape))\n\u001B[0m\u001B[0;32m    564\u001B[0m         \u001B[1;32mif\u001B[0m \u001B[1;32mnot\u001B[0m \u001B[0mcheck_batch_axis\u001B[0m\u001B[1;33m:\u001B[0m\u001B[1;33m\u001B[0m\u001B[0m\n\u001B[0;32m    565\u001B[0m           \u001B[0mdata_shape\u001B[0m \u001B[1;33m=\u001B[0m \u001B[0mdata_shape\u001B[0m\u001B[1;33m[\u001B[0m\u001B[1;36m1\u001B[0m\u001B[1;33m:\u001B[0m\u001B[1;33m]\u001B[0m\u001B[1;33m\u001B[0m\u001B[0m\n",
      "\u001B[1;31mValueError\u001B[0m: Error when checking input: expected input_10 to have 4 dimensions, but got array with shape (397430, 12, 48)"
     ]
    }
   ],
   "source": [
    "#训练的时候用带噪声的图像，输出是去除噪声的\n",
    "model.fit(windows_normal_train,windows_normal_train,epochs=10,batch_size=700,shuffle=True,validation_data=(windows_normal_val,windows_normal_val))"
   ]
  },
  {
   "cell_type": "code",
   "execution_count": 14,
   "metadata": {
    "pycharm": {
     "name": "#%%\n"
    }
   },
   "outputs": [],
   "source": [
    "pre_test = model.predict(x_test)"
   ]
  },
  {
   "cell_type": "code",
   "execution_count": 15,
   "metadata": {
    "pycharm": {
     "name": "#%%\n"
    }
   },
   "outputs": [
    {
     "data": {
      "image/png": "[encoded data removed]",
      "text/plain": [
       "<Figure size 2000x400 with 20 Axes>"
      ]
     },
     "metadata": {},
     "output_type": "display_data"
    }
   ],
   "source": [
    "n = 10 #画两行10列的子图\n",
    "plt.figure(figsize=(20,4))#宽20，高4\n",
    "for i in range(1,11):\n",
    "    ax = plt.subplot(2, n, i)\n",
    "    plt.imshow(x_test[i].reshape(28,28))\n",
    "    ax = plt.subplot(2, n, n+i)\n",
    "    plt.imshow(pre_test[i].reshape(28,28))\n",
    "    "
   ]
  },
  {
   "cell_type": "code",
   "execution_count": null,
   "metadata": {
    "pycharm": {
     "name": "#%%\n"
    }
   },
   "outputs": [],
   "source": []
  },
  {
   "cell_type": "code",
   "execution_count": null,
   "metadata": {},
   "outputs": [],
   "source": []
  },
  {
   "cell_type": "code",
   "execution_count": null,
   "metadata": {},
   "outputs": [],
   "source": []
  }
 ],
 "metadata": {
  "kernelspec": {
   "display_name": "Python 3 (ipykernel)",
   "language": "python",
   "name": "python3"
  },
  "language_info": {
   "codemirror_mode": {
    "name": "ipython",
    "version": 3
   },
   "file_extension": ".py",
   "mimetype": "text/x-python",
   "name": "python",
   "nbconvert_exporter": "python",
   "pygments_lexer": "ipython3",
   "version": "3.7.0"
  }
 },
 "nbformat": 4,
 "nbformat_minor": 1
}